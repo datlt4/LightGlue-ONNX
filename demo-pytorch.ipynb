{
 "cells": [
  {
   "cell_type": "markdown",
   "metadata": {},
   "source": [
    "# LightGlue Demo\n",
    "In this notebook we match two pairs of images using LightGlue with early stopping and point pruning."
   ]
  },
  {
   "cell_type": "code",
   "execution_count": 1,
   "metadata": {},
   "outputs": [
    {
     "data": {
      "text/plain": [
       "<torch.autograd.grad_mode.set_grad_enabled at 0x7efef64cad90>"
      ]
     },
     "execution_count": 1,
     "metadata": {},
     "output_type": "execute_result"
    }
   ],
   "source": [
    "from lightglue import LightGlue, SuperPoint, DISK\n",
    "from lightglue.utils import load_image, rbd\n",
    "from lightglue import viz2d\n",
    "import torch\n",
    "import cv2\n",
    "\n",
    "torch.set_grad_enabled(False)"
   ]
  },
  {
   "cell_type": "markdown",
   "metadata": {},
   "source": [
    "## Load extractor and matcher module\n",
    "In this example we use SuperPoint features combined with LightGlue."
   ]
  },
  {
   "cell_type": "code",
   "execution_count": 2,
   "metadata": {},
   "outputs": [
    {
     "name": "stdout",
     "output_type": "stream",
     "text": [
      "cuda\n"
     ]
    }
   ],
   "source": [
    "device = torch.device(\"cuda\" if torch.cuda.is_available() else \"cpu\")  # 'mps', 'cpu'\n",
    "print(device)\n",
    "extractor = SuperPoint(max_num_keypoints=2048).eval().to(device)  # load the extractor\n",
    "matcher = LightGlue(features=\"superpoint\").eval().to(device)"
   ]
  },
  {
   "cell_type": "code",
   "execution_count": 49,
   "metadata": {},
   "outputs": [],
   "source": [
    "def pytorch_infer(image0_path: str, image1_path: str) -> None:\n",
    "    image0 = load_image(image0_path)[0]\n",
    "    image1 = load_image(image1_path)[0]\n",
    "\n",
    "    feats0 = extractor.extract(image0.to(device))\n",
    "    feats1 = extractor.extract(image1.to(device))\n",
    "    matches01 = matcher({\"image0\": feats0, \"image1\": feats1})\n",
    "\n",
    "    feats0, feats1, matches01 = [\n",
    "        rbd(x) for x in [feats0, feats1, matches01]\n",
    "    ]  # remove batch dimension\n",
    "\n",
    "    # Convert keypoints from PyTorch to OpenCV format\n",
    "    def convert_to_cv_keypoints(keypoints):\n",
    "        cv_keypoints = []\n",
    "        for kp in keypoints:\n",
    "            cv_keypoints.append(cv2.KeyPoint(kp[0].item(), kp[1].item(), 1))  # (x, y, size)\n",
    "        return cv_keypoints\n",
    "\n",
    "    cv_kpts0 = convert_to_cv_keypoints(feats0[\"keypoints\"])\n",
    "    cv_kpts1 = convert_to_cv_keypoints(feats1[\"keypoints\"])\n",
    "\n",
    "    # Convert matches from PyTorch to OpenCV format\n",
    "    def convert_to_cv_matches(matches):\n",
    "        cv_matches = []\n",
    "        for match in matches:\n",
    "            cv_matches.append(cv2.DMatch(match[0].item(), match[1].item(), 0))  # (queryIdx, trainIdx, distance)\n",
    "        return cv_matches\n",
    "\n",
    "    cv_matches = convert_to_cv_matches(matches01[\"matches\"])\n",
    "\n",
    "    match_image = cv2.drawMatches(cv2.imread(image0_path), cv_kpts0, cv2.imread(image1_path), cv_kpts1, cv_matches, None)\n",
    "\n",
    "    cv2.putText(img=match_image, text=f'Number of matches: {len(cv_matches)}', \n",
    "                org=(10, 30), \n",
    "                fontFace=cv2.FONT_HERSHEY_SIMPLEX,\n",
    "                fontScale=1,\n",
    "                color=(255, 255, 255),\n",
    "                thickness=3,\n",
    "                lineType=4)\n",
    "    cv2.imwrite(f\"match_result_image.png\", match_image)"
   ]
  },
  {
   "cell_type": "markdown",
   "metadata": {},
   "source": [
    "## Easy example\n",
    "The top image shows the matches, while the bottom image shows the point pruning across layers. In this case, LightGlue prunes a few points with occlusions, but is able to stop the context aggregation after 4/9 layers."
   ]
  },
  {
   "cell_type": "code",
   "execution_count": 50,
   "metadata": {},
   "outputs": [],
   "source": [
    "IMAGE_0_PATH = \"assets/DSC_0410.JPG\"\n",
    "IMAGE_1_PATH = \"assets/DSC_0411.JPG\"\n",
    "pytorch_infer(IMAGE_0_PATH, IMAGE_1_PATH)"
   ]
  },
  {
   "cell_type": "markdown",
   "metadata": {},
   "source": [
    "## Difficult example\n",
    "For pairs with significant viewpoint- and illumination changes, LightGlue can exclude a lot of points early in the matching process (red points), which significantly reduces the inference time."
   ]
  },
  {
   "cell_type": "code",
   "execution_count": 51,
   "metadata": {},
   "outputs": [],
   "source": [
    "IMAGE_0_PATH = \"/workspace/image/lm81-1.png\"\n",
    "IMAGE_1_PATH = \"/workspace/image/lm81-2.png\"\n",
    "pytorch_infer(IMAGE_0_PATH, IMAGE_1_PATH)"
   ]
  },
  {
   "cell_type": "code",
   "execution_count": 52,
   "metadata": {},
   "outputs": [
    {
     "name": "stdout",
     "output_type": "stream",
     "text": [
      "total 9.1M\n",
      "-rwxrwxrwx 1 root root 1.2M Jul 16 07:28 satelite.png\n",
      "-rwxrwxrwx 1 root root 1.7M Jul 16 07:28 google_map.png\n",
      "-rwxrwxrwx 1 root root 2.3M Jul 16 07:27 lm81-2.png\n",
      "-rwxrwxrwx 1 root root 492K Jul 16 07:27 lm81-1.png\n",
      "-rwxrwxrwx 1 root root 131K Jul 16 07:24 webcam-Oxford-797-12.jpg\n",
      "-rwxrwxrwx 1 root root 254K Jul 16 07:24 sacre_coeur2.jpg\n",
      "-rwxrwxrwx 1 root root 197K Jul 16 07:24 sacre_coeur1.jpg\n",
      "drwxrwxrwx 1 root root 4.0K Jul 15 17:14 freiburg_sequence\n",
      "-rwxrwxrwx 1 root root 465K Jul  2 14:28 image0.png\n",
      "-rwxrwxrwx 1 root root 464K Jul  2 14:28 image1.png\n",
      "-rwxrwxrwx 1 root root 219K Jul  2 14:28 match_image.png\n",
      "-rwxrwxrwx 1 root root 1.8M Jul  2 14:28 superpoint_superglue_tensorrt.gif\n"
     ]
    }
   ],
   "source": [
    "!ls -lht  ../../image/"
   ]
  },
  {
   "cell_type": "code",
   "execution_count": 53,
   "metadata": {},
   "outputs": [],
   "source": [
    "IMAGE_0_PATH = \"/workspace/image/freiburg_sequence/1341847980.722988.png\"\n",
    "IMAGE_1_PATH = \"/workspace/image/freiburg_sequence/1341847990.810771.png\"\n",
    "pytorch_infer(IMAGE_0_PATH, IMAGE_1_PATH)"
   ]
  },
  {
   "cell_type": "code",
   "execution_count": 54,
   "metadata": {},
   "outputs": [],
   "source": [
    "IMAGE_0_PATH = \"/workspace/image/freiburg_sequence/1341847980.722988.png\"\n",
    "IMAGE_1_PATH = \"/workspace/image/freiburg_sequence/1341847987.758741.png\"\n",
    "pytorch_infer(IMAGE_0_PATH, IMAGE_1_PATH)"
   ]
  },
  {
   "cell_type": "code",
   "execution_count": 56,
   "metadata": {},
   "outputs": [],
   "source": [
    "IMAGE_0_PATH = \"/workspace/image/google_map.png\"\n",
    "IMAGE_1_PATH = \"/workspace/image/satelite.png\"\n",
    "pytorch_infer(IMAGE_0_PATH, IMAGE_1_PATH)"
   ]
  },
  {
   "cell_type": "code",
   "execution_count": 60,
   "metadata": {},
   "outputs": [],
   "source": [
    "IMAGE_0_PATH = \"/workspace/image/google_map.png\"\n",
    "IMAGE_1_PATH = \"/workspace/image/satelite_crop.png\"\n",
    "pytorch_infer(IMAGE_0_PATH, IMAGE_1_PATH)"
   ]
  },
  {
   "cell_type": "code",
   "execution_count": 61,
   "metadata": {},
   "outputs": [],
   "source": [
    "IMAGE_0_PATH = \"/workspace/image/google_map.png\"\n",
    "IMAGE_1_PATH = \"/workspace/image/satelite_crop2.png\"\n",
    "pytorch_infer(IMAGE_0_PATH, IMAGE_1_PATH)"
   ]
  },
  {
   "cell_type": "code",
   "execution_count": null,
   "metadata": {},
   "outputs": [],
   "source": []
  }
 ],
 "metadata": {
  "kernelspec": {
   "display_name": "Python 3",
   "language": "python",
   "name": "python3"
  },
  "language_info": {
   "codemirror_mode": {
    "name": "ipython",
    "version": 3
   },
   "file_extension": ".py",
   "mimetype": "text/x-python",
   "name": "python",
   "nbconvert_exporter": "python",
   "pygments_lexer": "ipython3",
   "version": "3.11.9"
  }
 },
 "nbformat": 4,
 "nbformat_minor": 2
}
